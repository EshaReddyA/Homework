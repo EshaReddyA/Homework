{
  "nbformat": 4,
  "nbformat_minor": 0,
  "metadata": {
    "colab": {
      "provenance": [],
      "authorship_tag": "ABX9TyOJDxHJihz4wdah6yZwarWp",
      "include_colab_link": true
    },
    "kernelspec": {
      "name": "python3",
      "display_name": "Python 3"
    },
    "language_info": {
      "name": "python"
    }
  },
  "cells": [
    {
      "cell_type": "markdown",
      "metadata": {
        "id": "view-in-github",
        "colab_type": "text"
      },
      "source": [
        "<a href=\"https://colab.research.google.com/github/EshaReddyA/Homework/blob/List/Untitled7.ipynb\" target=\"_parent\"><img src=\"https://colab.research.google.com/assets/colab-badge.svg\" alt=\"Open In Colab\"/></a>"
      ]
    },
    {
      "cell_type": "code",
      "execution_count": 3,
      "metadata": {
        "colab": {
          "base_uri": "https://localhost:8080/"
        },
        "id": "tQxUSBYe-4-E",
        "outputId": "efc433fa-4dc5-4706-e80e-2f54b1430395"
      },
      "outputs": [
        {
          "output_type": "stream",
          "name": "stdout",
          "text": [
            "Solution:\n",
            "5 1 7 6 9 8 2 3 4\n",
            "2 8 9 1 3 4 7 5 6\n",
            "3 4 6 2 7 5 8 9 1\n",
            "6 7 2 8 4 9 3 1 5\n",
            "1 3 8 5 2 6 9 4 7\n",
            "9 5 4 7 1 3 6 8 2\n",
            "4 9 5 3 6 2 1 7 8\n",
            "7 2 3 4 8 1 5 6 9\n",
            "8 6 1 9 5 7 4 2 3\n",
            "Time: 0.007927417755126953\n"
          ]
        }
      ],
      "source": [
        "import time\n",
        "start_time = time.time()\n",
        "\n",
        "def is_valid(board, row, col, num):\n",
        "    # Check if the number is not repeated in the row\n",
        "    for i in range(9):\n",
        "        if board[row][i] == num:\n",
        "            return False\n",
        "\n",
        "    # Check if the number is not repeated in the column\n",
        "    for i in range(9):\n",
        "        if board[i][col] == num:\n",
        "            return False\n",
        "\n",
        "    # Check if the number is not repeated in the 3x3 subgrid\n",
        "    start_row, start_col = 3 * (row // 3), 3 * (col // 3)\n",
        "    for i in range(start_row, start_row + 3):\n",
        "        for j in range(start_col, start_col + 3):\n",
        "            if board[i][j] == num:\n",
        "                return False\n",
        "\n",
        "    return True\n",
        "\n",
        "def solve_sudoku(board):\n",
        "    for row in range(9):\n",
        "        for col in range(9):\n",
        "            if board[row][col] == 0:  # Find an empty cell\n",
        "                for num in range(1, 10):  # Try numbers 1 to 10\n",
        "                    if is_valid(board, row, col, num):\n",
        "                        board[row][col] = num\n",
        "                        if solve_sudoku(board):\n",
        "                            return True\n",
        "                        board[row][col] = 0  # Backtrack\n",
        "                return False\n",
        "    return True\n",
        "\n",
        "def print_board(board):\n",
        "    for row in board:\n",
        "        print(*row)\n",
        "\n",
        "\n",
        "# Given Sudoku puzzle\n",
        "sudoku = [\n",
        "    [5, 1, 7, 6, 0, 0, 0, 3, 4],\n",
        "    [2, 8, 9, 0, 0, 4, 0, 0, 0],\n",
        "    [3, 4, 6, 2, 0, 5, 0, 9, 0],\n",
        "    [6, 0, 2, 0, 0, 0, 0, 1, 0],\n",
        "    [0, 3, 8, 0, 0, 6, 0, 4, 7],\n",
        "    [0, 0, 0, 0, 0, 0, 0, 0, 0],\n",
        "    [0, 9, 0, 0, 0, 0, 0, 7, 8],\n",
        "    [7, 0, 3, 4, 0, 0, 5, 6, 0],\n",
        "    [0, 0, 0, 0, 0, 0, 0, 0, 0]\n",
        "]\n",
        "\n",
        "if solve_sudoku(sudoku):\n",
        "    print(\"Solution:\")\n",
        "    print_board(sudoku)\n",
        "else:\n",
        "    print(\"No solution\")\n",
        "\n",
        "end_time = time.time()\n",
        "print(\"Time:\", end_time - start_time)"
      ]
    },
    {
      "cell_type": "markdown",
      "source": [
        "Create a class Person with attributes name and age. Inherit a class Employee that adds salary. Write a method to display all attributes.\n"
      ],
      "metadata": {
        "id": "4sxUCa8qCXRV"
      }
    },
    {
      "cell_type": "code",
      "source": [
        "class Person:\n",
        "    def __init__(self, name, age):\n",
        "        self.name = name\n",
        "        self.age = age\n",
        "\n",
        "    def printdetails(self):\n",
        "        print(self.name, self.age)\n",
        "\n",
        "class Employee(Person):  # subclass\n",
        "    def __init__(self, name, age, salary):\n",
        "        Person.__init__(self, name, age)\n",
        "        self.salary = salary\n",
        "\n",
        "    def printdetails(self):\n",
        "        print(self.name, self.age, self.salary)\n",
        "\n",
        "e1 = Employee(\"John\", 30, 50000)\n",
        "e1.printdetails()\n"
      ],
      "metadata": {
        "id": "D60HoBRzCwki"
      },
      "execution_count": null,
      "outputs": []
    },
    {
      "cell_type": "markdown",
      "source": [
        "Define a class Animal with a method speak(). Inherit it in class Dog and override the speak() method to print \"Bark\"."
      ],
      "metadata": {
        "id": "Lh8D8B04Fy1K"
      }
    },
    {
      "cell_type": "code",
      "source": [
        "class Animal:\n",
        "    def speak(self):\n",
        "        print(\"Animal speaks\")\n",
        "\n",
        "class Dog(Animal):\n",
        "    def speak(self):\n",
        "      print(\"Bark\")\n",
        "\n",
        "d1 = Dog()\n",
        "d1.speak()"
      ],
      "metadata": {
        "colab": {
          "base_uri": "https://localhost:8080/"
        },
        "id": "ORYRxCHkFxev",
        "outputId": "c713ad71-e04c-4b92-985f-44fe7087b057"
      },
      "execution_count": 6,
      "outputs": [
        {
          "output_type": "stream",
          "name": "stdout",
          "text": [
            "Bark\n"
          ]
        }
      ]
    },
    {
      "cell_type": "markdown",
      "source": [
        "Make a class Vehicle with a method info() that prints \"This is a vehicle\". Create a class Car that inherits Vehicle and adds a method brand() which prints the car's brand.\n"
      ],
      "metadata": {
        "id": "BTx0I9SdGYE-"
      }
    },
    {
      "cell_type": "code",
      "source": [
        "class Vehicle:\n",
        "    def details(self):\n",
        "        print(\"This is a vehicle\")\n",
        "\n",
        "class Car(Vehicle):  # subclass\n",
        "    def brand(self, brand):\n",
        "        print(\"Car brand is:\", brand)\n",
        "\n",
        "c1 = Car()\n",
        "c1.details()\n",
        "c1.brand(\"Toyota\")\n"
      ],
      "metadata": {
        "colab": {
          "base_uri": "https://localhost:8080/"
        },
        "id": "z59OV-4RGjKV",
        "outputId": "3ee248a1-1360-4580-cd23-14ad40c2d25a"
      },
      "execution_count": 8,
      "outputs": [
        {
          "output_type": "stream",
          "name": "stdout",
          "text": [
            "This is a vehicle\n",
            "Car brand is: Toyota\n"
          ]
        }
      ]
    },
    {
      "cell_type": "markdown",
      "source": [
        "\n",
        "Build a class Shape with a method area() that returns 0. Inherit a class Square that overrides area() to return area of a square (given side)."
      ],
      "metadata": {
        "id": "W1P35i1mGhWG"
      }
    },
    {
      "cell_type": "code",
      "source": [
        "class Shape:\n",
        "    def area(self):\n",
        "        return 0\n",
        "\n",
        "class Square(Shape):\n",
        "    def __init__(self, side):\n",
        "        self.side = side\n",
        "\n",
        "    def area(self):\n",
        "        return self.side ** 2\n",
        "\n",
        "s = Square(4)\n",
        "print(s.area())\n"
      ],
      "metadata": {
        "colab": {
          "base_uri": "https://localhost:8080/"
        },
        "id": "vv_CSaTlGenF",
        "outputId": "c31cdfc7-52b1-4e19-81de-d33114003e98"
      },
      "execution_count": 5,
      "outputs": [
        {
          "output_type": "stream",
          "name": "stdout",
          "text": [
            "16\n"
          ]
        }
      ]
    },
    {
      "cell_type": "markdown",
      "source": [
        "\n",
        "\n",
        "\n",
        "Write a class Parent with a private variable and a getter method. Inherit a class Child and access the private variable via the getter."
      ],
      "metadata": {
        "id": "_uNoWr83Gcfh"
      }
    },
    {
      "cell_type": "code",
      "source": [
        "class Person:\n",
        "    def __init__(self, age):\n",
        "        self.__age = age\n",
        "\n",
        "    def get_age(self):\n",
        "        return self.__age\n",
        "\n",
        "class Student(Person):\n",
        "    def display_age(self):\n",
        "        print(self.get_age())\n",
        "\n",
        "s = Student(21)\n",
        "s.display_age()"
      ],
      "metadata": {
        "colab": {
          "base_uri": "https://localhost:8080/"
        },
        "id": "g6tO4sSywuFc",
        "outputId": "09f00f88-205a-4f50-f408-8810c7d6ce2c"
      },
      "execution_count": 7,
      "outputs": [
        {
          "output_type": "stream",
          "name": "stdout",
          "text": [
            "21\n"
          ]
        }
      ]
    },
    {
      "cell_type": "markdown",
      "source": [
        "Create two classes Writer and Editor, each with a method role(). Inherit a class Author from both and override role() to describe an author’s combined role."
      ],
      "metadata": {
        "id": "8FR7G3O15rDg"
      }
    },
    {
      "cell_type": "code",
      "source": [
        "class writer:\n",
        "    def role(self):\n",
        "        print(\"Writer\")\n",
        "\n",
        "class editor:\n",
        "    def role(self):\n",
        "        print(\"Editor\")\n",
        "\n",
        "class author(writer, editor):\n",
        "    def role(self):\n",
        "        print(\"Author\")\n",
        "\n",
        "a1 = author()\n",
        "a1.role()\n",
        "\n"
      ],
      "metadata": {
        "colab": {
          "base_uri": "https://localhost:8080/"
        },
        "id": "IhBERlaF5lQS",
        "outputId": "d0e54396-7640-455d-bb2d-c95ed6542a15"
      },
      "execution_count": 10,
      "outputs": [
        {
          "output_type": "stream",
          "name": "stdout",
          "text": [
            "Author\n"
          ]
        }
      ]
    },
    {
      "cell_type": "markdown",
      "source": [
        "Define a class MathTeacher with a method teach(), and another class BasketballCoach with train(). Make a SchoolStaff class that inherits both and uses both methods.\n"
      ],
      "metadata": {
        "id": "BOW43sBe5oOc"
      }
    },
    {
      "cell_type": "code",
      "source": [
        "class MathTeacher:\n",
        "    def teach(self):\n",
        "        print(\" math\")\n",
        "\n",
        "class BasketballCoach:\n",
        "    def train(self):\n",
        "        print(\"basketball\")\n",
        "\n",
        "class SchoolStaff(MathTeacher, BasketballCoach):\n",
        "    pass\n",
        "\n",
        "s1 = SchoolStaff()\n",
        "s1.teach()\n",
        "s1.train()"
      ],
      "metadata": {
        "colab": {
          "base_uri": "https://localhost:8080/"
        },
        "id": "671IsO0f6N3D",
        "outputId": "c3be872b-7dee-40cf-8ce0-b406b223cf30"
      },
      "execution_count": 11,
      "outputs": [
        {
          "output_type": "stream",
          "name": "stdout",
          "text": [
            " math\n",
            "basketball\n"
          ]
        }
      ]
    },
    {
      "cell_type": "markdown",
      "source": [
        "Create classes A and B with a method say() that prints different messages. Inherit class C(A, B) and call say(). What gets printed?\n"
      ],
      "metadata": {
        "id": "8qNZHZbu6SC-"
      }
    },
    {
      "cell_type": "code",
      "source": [
        "class A:\n",
        "    def say(self):\n",
        "        print(\"california burrito\")\n",
        "\n",
        "class B:\n",
        "    def say(self):\n",
        "        print(\"Chocolate fudge\")\n",
        "\n",
        "class C(A, B):\n",
        "    pass\n",
        "\n",
        "Food = C()\n",
        "Food.say()\n"
      ],
      "metadata": {
        "colab": {
          "base_uri": "https://localhost:8080/"
        },
        "id": "pJieFXvk6mX2",
        "outputId": "52b8311b-2d51-47f2-d637-c20f033a6ee3"
      },
      "execution_count": 14,
      "outputs": [
        {
          "output_type": "stream",
          "name": "stdout",
          "text": [
            "california burrito\n"
          ]
        }
      ]
    },
    {
      "cell_type": "markdown",
      "source": [
        "Write a program that demonstrates method resolution order (MRO) using multiple inheritance. Show how Python decides which method to call.\n",
        "\n"
      ],
      "metadata": {
        "id": "6GB5Ss3S6m9h"
      }
    },
    {
      "cell_type": "code",
      "source": [],
      "metadata": {
        "id": "4MyoM6pF7loN"
      },
      "execution_count": null,
      "outputs": []
    },
    {
      "cell_type": "markdown",
      "source": [
        "Simulate a class Person and class Athlete. Make a subclass StudentAthlete that inherits from both, and demonstrate accessing attributes/methods from both base classes."
      ],
      "metadata": {
        "id": "srea0u8W7mOT"
      }
    },
    {
      "cell_type": "code",
      "source": [
        "class Person:\n",
        "    def __init__(self, name):\n",
        "        print(\"Hi, I am\", name)\n",
        "\n",
        "class Athlete:\n",
        "    def __init__(self, sport):\n",
        "        print(\"I\", sport)\n",
        "\n",
        "class StudentAthlete(Person, Athlete):\n",
        "    def __init__(self, name, sport):\n",
        "        Person.__init__(self, name)\n",
        "        Athlete.__init__(self, sport)\n",
        "\n",
        "s1 = StudentAthlete(\"Esha\", \"Swim\")\n",
        "\n"
      ],
      "metadata": {
        "colab": {
          "base_uri": "https://localhost:8080/"
        },
        "id": "lkVY73sb8vr9",
        "outputId": "02437b20-3d6d-4789-ad35-34ce234b99d2"
      },
      "execution_count": 21,
      "outputs": [
        {
          "output_type": "stream",
          "name": "stdout",
          "text": [
            "Hi, I am Esha\n",
            "I Swim\n"
          ]
        }
      ]
    },
    {
      "cell_type": "markdown",
      "source": [
        "Create a class Grandparent with a method history(). Inherit Parent from it and add legacy(). Inherit Child from Parent and add future(). Call all three methods from a Child object.\n",
        "\n"
      ],
      "metadata": {
        "id": "r_nivk2S_hzY"
      }
    },
    {
      "cell_type": "code",
      "source": [
        "class Grandparent:\n",
        "    def history(self):\n",
        "        print(\"grandparents History\")\n",
        "\n",
        "class Parent(Grandparent):\n",
        "    def legacy(self):\n",
        "        print(\"parents Legacy\")\n",
        "\n",
        "class Child(Parent):\n",
        "    def future(self):\n",
        "        print(\"the Future\")\n",
        "result = Child()\n",
        "result.history()\n",
        "result.legacy()\n",
        "result.future()"
      ],
      "metadata": {
        "colab": {
          "base_uri": "https://localhost:8080/"
        },
        "id": "YvKf3cw0_hWf",
        "outputId": "91078644-bf62-44ab-c5a7-eb4de0f3e4b4"
      },
      "execution_count": 23,
      "outputs": [
        {
          "output_type": "stream",
          "name": "stdout",
          "text": [
            "grandparents History\n",
            "parents Legacy\n",
            "the Future\n"
          ]
        }
      ]
    },
    {
      "cell_type": "markdown",
      "source": [
        "Make a base class Device with a method specs(). Inherit Phone from Device, and Smartphone from Phone. Override specs() at each level and see which one gets called.\n",
        "\n"
      ],
      "metadata": {
        "id": "aaELcCB6_t27"
      }
    },
    {
      "cell_type": "code",
      "source": [
        "class device:\n",
        "    def specs(self):\n",
        "        print(\"device\")\n",
        "\n",
        "class phone(device):\n",
        "    def specs(self):\n",
        "        print(\"phone\")\n",
        "\n",
        "class smartphone(phone):\n",
        "    def specs(self):\n",
        "        print(\"smartphone\")\n",
        "display = smartphone()\n",
        "display.specs()"
      ],
      "metadata": {
        "colab": {
          "base_uri": "https://localhost:8080/"
        },
        "id": "uMZj2--S_v-Y",
        "outputId": "782d62bd-2f69-419e-ad71-cd5e69208b0a"
      },
      "execution_count": 24,
      "outputs": [
        {
          "output_type": "stream",
          "name": "stdout",
          "text": [
            "smartphone\n"
          ]
        }
      ]
    },
    {
      "cell_type": "markdown",
      "source": [
        "Design a multilevel class structure: Organism -> Animal -> Human, each with a method info(). Override the method at each level and call info() from a Human object.\n",
        "\n"
      ],
      "metadata": {
        "id": "oPwZzIq-_wVj"
      }
    },
    {
      "cell_type": "code",
      "source": [
        "class Organism:\n",
        "    def info(self):\n",
        "        print(\"ORGANISAM\")\n",
        "\n",
        "class Animal(Organism):\n",
        "    def info(self):\n",
        "        print(\"ANIMAL\")\n",
        "\n",
        "class Human(Animal):\n",
        "    def info(self):\n",
        "        print(\"I AM A HUMAN\")\n",
        "\n",
        "result = Human()\n",
        "result.info()"
      ],
      "metadata": {
        "colab": {
          "base_uri": "https://localhost:8080/"
        },
        "id": "MHrTJfO5_x_H",
        "outputId": "8872e07b-25dc-462b-f3b3-d2348ebc4f50"
      },
      "execution_count": 25,
      "outputs": [
        {
          "output_type": "stream",
          "name": "stdout",
          "text": [
            "I AM A HUMAN\n"
          ]
        }
      ]
    },
    {
      "cell_type": "markdown",
      "source": [
        "Implement a multilevel inheritance where the base class University has details like name and location, College inherits it with department info, and Student inherits College with personal details. Print complete student info.\n"
      ],
      "metadata": {
        "id": "clSMNgnV_ybg"
      }
    },
    {
      "cell_type": "code",
      "source": [
        "class university:\n",
        "    def __init__(self, name, location):\n",
        "        self.name = name\n",
        "        self.location = location\n",
        "class college(university):\n",
        "    def __init__(self, name, location, department):\n",
        "        super().__init__(name, location)\n",
        "        self.department = department\n",
        "class student(college):\n",
        "    def __init__(self, name, location, department,stud_id, age):\n",
        "        super().__init__(name, location, department)\n",
        "        self.roll_no = stud_id\n",
        "        self.age = age\n",
        "    def info(self):\n",
        "        print(\"University:\", self.name)\n",
        "        print(\"Location:\", self.location)\n",
        "        print(\"Department:\", self.department)\n",
        "        print(\"Roll Number:\", self.roll_no)\n",
        "        print(\"Age:\", self.age)\n",
        "\n",
        "s1 = student(\"University of North Texas\", \"Denton\", \"Business Analytics\", 11654812, 24)\n",
        "s1.info()\n",
        ""
      ],
      "metadata": {
        "colab": {
          "base_uri": "https://localhost:8080/"
        },
        "id": "G8i2Ox02_0Nn",
        "outputId": "79f86ec9-ecd7-4665-d54b-24fbb80a2044"
      },
      "execution_count": 28,
      "outputs": [
        {
          "output_type": "stream",
          "name": "stdout",
          "text": [
            "University: University of North Texas\n",
            "Location: Denton\n",
            "Department: Business Analytics\n",
            "Roll Number: 11654812\n",
            "Age: 24\n"
          ]
        }
      ]
    },
    {
      "cell_type": "markdown",
      "source": [
        "\n",
        "Write a multilevel inheritance example with a class A having a method greet(), B(A) adding introduce(), and C(B) adding describe(). Call all three methods from an object of class C."
      ],
      "metadata": {
        "id": "qaU9uRYj_1H_"
      }
    },
    {
      "cell_type": "code",
      "source": [
        "class A:\n",
        " def greet(self):\n",
        "     print(\"Hello from A\")\n",
        "\n",
        "class B(A):\n",
        "  def introduce(self):\n",
        "      print(\"Hello from B\")\n",
        "\n",
        "class C(B):\n",
        "  def describe(self):\n",
        "      print(\"Hello from C\")\n",
        "\n",
        "display = C()\n",
        "display.greet()\n",
        "display.introduce()\n",
        "display.describe()\n",
        "\n",
        "\n",
        ""
      ],
      "metadata": {
        "colab": {
          "base_uri": "https://localhost:8080/"
        },
        "id": "akQu6PhZHbwq",
        "outputId": "24061348-f78c-475b-d4da-e6b6216ad9e6"
      },
      "execution_count": 33,
      "outputs": [
        {
          "output_type": "stream",
          "name": "stdout",
          "text": [
            "Hello from A\n",
            "Hello from B\n",
            "Hello from C\n"
          ]
        }
      ]
    }
  ]
}
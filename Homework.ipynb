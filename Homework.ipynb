{
  "nbformat": 4,
  "nbformat_minor": 0,
  "metadata": {
    "colab": {
      "provenance": [],
      "authorship_tag": "ABX9TyPOCoXRaSwAeqw0IR7Ek7QB",
      "include_colab_link": true
    },
    "kernelspec": {
      "name": "python3",
      "display_name": "Python 3"
    },
    "language_info": {
      "name": "python"
    }
  },
  "cells": [
    {
      "cell_type": "markdown",
      "metadata": {
        "id": "view-in-github",
        "colab_type": "text"
      },
      "source": [
        "<a href=\"https://colab.research.google.com/github/EshaReddyA/Homework/blob/Collab_assign1/Homework.ipynb\" target=\"_parent\"><img src=\"https://colab.research.google.com/assets/colab-badge.svg\" alt=\"Open In Colab\"/></a>"
      ]
    },
    {
      "cell_type": "markdown",
      "source": [
        "create a calultor which is having a = 5, b = 6"
      ],
      "metadata": {
        "id": "iv40rN1qipsL"
      }
    },
    {
      "cell_type": "code",
      "source": [
        "x = 5\n",
        "y = 6\n",
        "#addition\n",
        "Add = x + y\n",
        "print(\"add\",Add)\n",
        "#subtraction\n",
        "Sub = x - y\n",
        "print(\"Sub\",Sub)\n",
        "#Multiplication\n",
        "mul = x * y\n",
        "print(\"Mul\",mul)\n",
        "#Division\n",
        "div = x / y\n",
        "print(\"Div\",div)"
      ],
      "metadata": {
        "colab": {
          "base_uri": "https://localhost:8080/"
        },
        "id": "S5jN93bwib4X",
        "outputId": "7c9f761e-544b-4ccf-9e89-8f16014ee744"
      },
      "execution_count": 8,
      "outputs": [
        {
          "output_type": "stream",
          "name": "stdout",
          "text": [
            "add 11\n",
            "Sub -1\n",
            "Mul 30\n",
            "Div 0.8333333333333334\n"
          ]
        }
      ]
    },
    {
      "cell_type": "markdown",
      "source": [
        "Write a 1 to 10 even number? Write a 1 to 10 odd number?"
      ],
      "metadata": {
        "id": "p4scJyY4ilFg"
      }
    },
    {
      "cell_type": "code",
      "source": [
        "for i in range(1,11):\n",
        "    if i%2==0:\n",
        "        print(i,\"even\")\n",
        "    else:\n",
        "        print(i,\"odd\")"
      ],
      "metadata": {
        "colab": {
          "base_uri": "https://localhost:8080/"
        },
        "id": "1O_Lp-HFi_P5",
        "outputId": "bc472700-608e-4639-be0f-ef3293f3b179"
      },
      "execution_count": 6,
      "outputs": [
        {
          "output_type": "stream",
          "name": "stdout",
          "text": [
            "1 odd\n",
            "2 even\n",
            "3 odd\n",
            "4 even\n",
            "5 odd\n",
            "6 even\n",
            "7 odd\n",
            "8 even\n",
            "9 odd\n",
            "10 even\n"
          ]
        }
      ]
    },
    {
      "cell_type": "markdown",
      "source": [
        "Given an integer, , perform the following conditional actions:\n",
        "\n",
        "If  is odd, print Weird\n",
        "If  is even and in the inclusive range of  to , print Not Weird\n",
        "If  is even and in the inclusive range of  to , print Weird\n",
        "If  is even and greater than , print Not Weird"
      ],
      "metadata": {
        "id": "nT6xZVw3lEIy"
      }
    },
    {
      "cell_type": "code",
      "source": [
        "if __name__ == '__main__':\n",
        "    n = int(input().strip())\n",
        "if (n % 2)!= 0:\n",
        "  print(\"Weird\")\n",
        "else:\n",
        "    if n>=2 and n<=5:\n",
        "        print(\"Not Weird\")\n",
        "    elif n>=6 and n<=20:\n",
        "      print(\"Weird\")\n",
        "    else:\n",
        "        if n>20:\n",
        "          print(\"Not Weird\")"
      ],
      "metadata": {
        "colab": {
          "base_uri": "https://localhost:8080/"
        },
        "id": "NVlvT8S0nwu2",
        "outputId": "6b5ad729-2125-4b9c-8ef8-c7f878e276fa"
      },
      "execution_count": 12,
      "outputs": [
        {
          "output_type": "stream",
          "name": "stdout",
          "text": [
            "4\n",
            "Not Weird\n"
          ]
        }
      ]
    },
    {
      "cell_type": "code",
      "source": [
        "number = 0\n",
        "while number < 5:\n",
        "     number = number + 1\n",
        "     print(\"number\",number)\n",
        "\n",
        "\n"
      ],
      "metadata": {
        "colab": {
          "base_uri": "https://localhost:8080/"
        },
        "id": "dCq183mqs1MR",
        "outputId": "0644c083-e091-47a2-e1d6-e889bd13e51c"
      },
      "execution_count": 41,
      "outputs": [
        {
          "output_type": "stream",
          "name": "stdout",
          "text": [
            "number 1\n",
            "number 2\n",
            "number 3\n",
            "number 4\n",
            "number 5\n"
          ]
        }
      ]
    }
  ]
}
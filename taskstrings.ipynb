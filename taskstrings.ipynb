{
  "nbformat": 4,
  "nbformat_minor": 0,
  "metadata": {
    "colab": {
      "provenance": [],
      "authorship_tag": "ABX9TyMngazB1wapg1eLWpC/z6J/",
      "include_colab_link": true
    },
    "kernelspec": {
      "name": "python3",
      "display_name": "Python 3"
    },
    "language_info": {
      "name": "python"
    }
  },
  "cells": [
    {
      "cell_type": "markdown",
      "metadata": {
        "id": "view-in-github",
        "colab_type": "text"
      },
      "source": [
        "<a href=\"https://colab.research.google.com/github/EshaReddyA/Homework/blob/Collab_assign1/taskstrings.ipynb\" target=\"_parent\"><img src=\"https://colab.research.google.com/assets/colab-badge.svg\" alt=\"Open In Colab\"/></a>"
      ]
    },
    {
      "cell_type": "markdown",
      "source": [],
      "metadata": {
        "id": "UlhdqFvYaGB3"
      }
    },
    {
      "cell_type": "markdown",
      "source": [
        "capitalize() Changes the first character to upper case"
      ],
      "metadata": {
        "id": "NzvBSu_8aHqp"
      }
    },
    {
      "cell_type": "code",
      "source": [
        "text = \"hello world\"\n",
        "print(text.capitalize())"
      ],
      "metadata": {
        "colab": {
          "base_uri": "https://localhost:8080/"
        },
        "id": "SlFXObgAaQuz",
        "outputId": "d9fc8276-b475-472b-afef-653280cf352e"
      },
      "execution_count": 1,
      "outputs": [
        {
          "output_type": "stream",
          "name": "stdout",
          "text": [
            "Hello world\n"
          ]
        }
      ]
    },
    {
      "cell_type": "markdown",
      "source": [
        "casefold()\n",
        "Converts the string to lowercase (more aggressive than lower())."
      ],
      "metadata": {
        "id": "wHzGa2FdagZc"
      }
    },
    {
      "cell_type": "code",
      "source": [
        "text = \"HELLO WORLD\"\n",
        "print(text.casefold())"
      ],
      "metadata": {
        "colab": {
          "base_uri": "https://localhost:8080/"
        },
        "id": "j2KA-ofER5JZ",
        "outputId": "a89f6899-dbef-47a0-d8d5-7f55a2e432ed"
      },
      "execution_count": 2,
      "outputs": [
        {
          "output_type": "stream",
          "name": "stdout",
          "text": [
            "hello world\n"
          ]
        }
      ]
    },
    {
      "cell_type": "markdown",
      "source": [
        "center(width, fillchar)\n",
        "Returns a centered string with a specified width and optional fill character."
      ],
      "metadata": {
        "id": "M-68YCtAa2ET"
      }
    },
    {
      "cell_type": "code",
      "source": [
        "text = \"hello\"\n",
        "print(text.center(10, \"-\"))"
      ],
      "metadata": {
        "colab": {
          "base_uri": "https://localhost:8080/"
        },
        "id": "GCB2t0sTZX9D",
        "outputId": "6c5745ed-c3f1-4d6c-c381-604b3d197e04"
      },
      "execution_count": 3,
      "outputs": [
        {
          "output_type": "stream",
          "name": "stdout",
          "text": [
            "--hello---\n"
          ]
        }
      ]
    },
    {
      "cell_type": "markdown",
      "source": [
        "count() Returns the number of times a specified value occurs in a string"
      ],
      "metadata": {
        "id": "Sw1tlW-RbOBN"
      }
    },
    {
      "cell_type": "code",
      "source": [
        "text = \"pineapple\"\n",
        "print(text.count(\"a\"))"
      ],
      "metadata": {
        "colab": {
          "base_uri": "https://localhost:8080/"
        },
        "id": "dtyezaRnbO6F",
        "outputId": "536353bb-7a06-4175-8f9c-b4a71fe344f9"
      },
      "execution_count": 4,
      "outputs": [
        {
          "output_type": "stream",
          "name": "stdout",
          "text": [
            "1\n"
          ]
        }
      ]
    },
    {
      "cell_type": "markdown",
      "source": [
        "encode()  Returns an encoded version of the string"
      ],
      "metadata": {
        "id": "MvKvN9MKbdBn"
      }
    },
    {
      "cell_type": "code",
      "source": [
        "text = \"hello\"\n",
        "encoded_text = text.encode()\n",
        "print(encoded_text)"
      ],
      "metadata": {
        "colab": {
          "base_uri": "https://localhost:8080/"
        },
        "id": "HuOUoH3LbcWg",
        "outputId": "f0093290-3679-4677-b19b-d6f138cf9cde"
      },
      "execution_count": 5,
      "outputs": [
        {
          "output_type": "stream",
          "name": "stdout",
          "text": [
            "b'hello'\n"
          ]
        }
      ]
    },
    {
      "cell_type": "markdown",
      "source": [
        "endswith()  Returns true if the string ends with the specified value"
      ],
      "metadata": {
        "id": "sKKNsnoCbsyA"
      }
    },
    {
      "cell_type": "code",
      "source": [
        "text = \"Book.txt\"\n",
        "print(text.endswith(\".txt\"))"
      ],
      "metadata": {
        "colab": {
          "base_uri": "https://localhost:8080/"
        },
        "id": "za21yofsbtly",
        "outputId": "956c660d-f783-4052-9930-fe01faad15bc"
      },
      "execution_count": 6,
      "outputs": [
        {
          "output_type": "stream",
          "name": "stdout",
          "text": [
            "True\n"
          ]
        }
      ]
    },
    {
      "cell_type": "markdown",
      "source": [
        "expandtabs()  Sets the tab size of the string"
      ],
      "metadata": {
        "id": "mW6tspxQb1GB"
      }
    },
    {
      "cell_type": "code",
      "source": [
        "text = \"Hello\\tWorld\"\n",
        "print(text.expandtabs(4))"
      ],
      "metadata": {
        "colab": {
          "base_uri": "https://localhost:8080/"
        },
        "id": "Zl5_9SBub2Mt",
        "outputId": "cb171b80-71c4-4312-e598-e8f26d0d5715"
      },
      "execution_count": 7,
      "outputs": [
        {
          "output_type": "stream",
          "name": "stdout",
          "text": [
            "Hello   World\n"
          ]
        }
      ]
    },
    {
      "cell_type": "markdown",
      "source": [
        "find()  Searches the string for a specified value and returns the position of where it was found"
      ],
      "metadata": {
        "id": "-v_jBSCkb4HY"
      }
    },
    {
      "cell_type": "code",
      "source": [
        "text = \"hello world\"\n",
        "print(text.find(\"world\"))\n",
        "print(text.find(\"Python\"))"
      ],
      "metadata": {
        "id": "PCi6FHoVb3FO"
      },
      "execution_count": null,
      "outputs": []
    },
    {
      "cell_type": "markdown",
      "source": [
        "format()  Formats specified values in a string"
      ],
      "metadata": {
        "id": "rDN2KkV-cHCd"
      }
    },
    {
      "cell_type": "code",
      "source": [
        "text = \"Hello, {}!\"\n",
        "print(text.format(\"Esha\"))"
      ],
      "metadata": {
        "colab": {
          "base_uri": "https://localhost:8080/"
        },
        "id": "QuXLrHAkcQJS",
        "outputId": "eeff02ac-7f36-4e44-e22e-c3a6e5b3ddd8"
      },
      "execution_count": 8,
      "outputs": [
        {
          "output_type": "stream",
          "name": "stdout",
          "text": [
            "Hello, Esha!\n"
          ]
        }
      ]
    },
    {
      "cell_type": "markdown",
      "source": [
        "\n",
        "format_map()  Formats specified values in a string"
      ],
      "metadata": {
        "id": "d_Pg7vFJcbNG"
      }
    },
    {
      "cell_type": "code",
      "source": [
        "data = {\"name\": \"Esha\", \"age\": 24}\n",
        "text = \"My name is {name} and I am {age} years old.\"\n",
        "print(text.format_map(data))"
      ],
      "metadata": {
        "colab": {
          "base_uri": "https://localhost:8080/"
        },
        "id": "-8xMyBTvccV_",
        "outputId": "11fcc378-8fec-4d41-a6ee-bdcd89725c57"
      },
      "execution_count": 9,
      "outputs": [
        {
          "output_type": "stream",
          "name": "stdout",
          "text": [
            "My name is Esha and I am 24 years old.\n"
          ]
        }
      ]
    },
    {
      "cell_type": "markdown",
      "source": [
        "index() Searches the string for a specified value and returns the position of where it was found"
      ],
      "metadata": {
        "id": "Zz_2pVfzcktV"
      }
    },
    {
      "cell_type": "code",
      "source": [
        "text = \"hello world\"\n",
        "print(text.index(\"world\"))"
      ],
      "metadata": {
        "colab": {
          "base_uri": "https://localhost:8080/"
        },
        "id": "kFvyvGlYcljN",
        "outputId": "27132241-e167-4384-d7c7-cabe162ad03d"
      },
      "execution_count": 14,
      "outputs": [
        {
          "output_type": "stream",
          "name": "stdout",
          "text": [
            "6\n"
          ]
        }
      ]
    },
    {
      "cell_type": "markdown",
      "source": [
        "\n",
        "isalnum() Returns True if all characters in the string are alphanumeric"
      ],
      "metadata": {
        "id": "cTBK1djMcfmq"
      }
    },
    {
      "cell_type": "code",
      "source": [
        "text = \"Hello023\"\n",
        "print(text.isalnum())  # Output: True\n",
        "print(\"Hello 123\".isalnum())"
      ],
      "metadata": {
        "colab": {
          "base_uri": "https://localhost:8080/"
        },
        "id": "DOFtvG8wc6zA",
        "outputId": "7aa3bec2-cb6e-4fd7-c0b7-65f56f3370cb"
      },
      "execution_count": 10,
      "outputs": [
        {
          "output_type": "stream",
          "name": "stdout",
          "text": [
            "True\n",
            "False\n"
          ]
        }
      ]
    },
    {
      "cell_type": "markdown",
      "source": [
        "isalpha() Returns True if all characters in the string are in the alphabet"
      ],
      "metadata": {
        "id": "v85XsHDscrPT"
      }
    },
    {
      "cell_type": "code",
      "source": [
        "text = \"Hello\"\n",
        "print(text.isalpha())  # Output: True\n",
        "print(\"Hello123\".isalpha())"
      ],
      "metadata": {
        "colab": {
          "base_uri": "https://localhost:8080/"
        },
        "id": "8rC5WhjAc8bK",
        "outputId": "e859d32b-8b2c-4044-f3f8-6d31a30e06e0"
      },
      "execution_count": 13,
      "outputs": [
        {
          "output_type": "stream",
          "name": "stdout",
          "text": [
            "True\n",
            "False\n"
          ]
        }
      ]
    },
    {
      "cell_type": "markdown",
      "source": [
        "\n",
        "isascii() Returns True if all characters in the string are ascii characters"
      ],
      "metadata": {
        "id": "6M2jvsgIcYA_"
      }
    },
    {
      "cell_type": "code",
      "source": [
        "text = \"Hello!\"\n",
        "print(text.isascii())  # Output: True\n",
        "print(\"你好\".isascii())"
      ],
      "metadata": {
        "colab": {
          "base_uri": "https://localhost:8080/"
        },
        "id": "3KfA2NVtc_iV",
        "outputId": "f878bdff-892c-48c3-d10e-2d192d867631"
      },
      "execution_count": 12,
      "outputs": [
        {
          "output_type": "stream",
          "name": "stdout",
          "text": [
            "True\n",
            "False\n"
          ]
        }
      ]
    },
    {
      "cell_type": "markdown",
      "source": [
        "\n",
        "\n",
        "\n",
        "\n",
        "\n",
        "\n",
        "\n",
        "\n",
        "\n",
        "isdecimal() Returns True if all characters in the string are decimals\n"
      ],
      "metadata": {
        "id": "MhYFhPl1ZYut"
      }
    },
    {
      "cell_type": "code",
      "source": [
        "text = \"12345\"\n",
        "print(text.isdecimal())  # Output: True\n",
        "print(\"12.34\".isdecimal())"
      ],
      "metadata": {
        "colab": {
          "base_uri": "https://localhost:8080/"
        },
        "id": "UFvxnfajdGts",
        "outputId": "f2b92db4-6914-47ba-a177-3d78e2141af0"
      },
      "execution_count": 11,
      "outputs": [
        {
          "output_type": "stream",
          "name": "stdout",
          "text": [
            "True\n",
            "False\n"
          ]
        }
      ]
    },
    {
      "cell_type": "markdown",
      "source": [],
      "metadata": {
        "id": "zJRR0IJ6Q1-U"
      }
    }
  ]
}
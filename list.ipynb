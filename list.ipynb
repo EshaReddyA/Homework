{
  "nbformat": 4,
  "nbformat_minor": 0,
  "metadata": {
    "colab": {
      "provenance": [],
      "authorship_tag": "ABX9TyPq7uCGPhmVAMj0URllzaZC",
      "include_colab_link": true
    },
    "kernelspec": {
      "name": "python3",
      "display_name": "Python 3"
    },
    "language_info": {
      "name": "python"
    }
  },
  "cells": [
    {
      "cell_type": "markdown",
      "metadata": {
        "id": "view-in-github",
        "colab_type": "text"
      },
      "source": [
        "<a href=\"https://colab.research.google.com/github/EshaReddyA/Homework/blob/Collab_assign1/list.ipynb\" target=\"_parent\"><img src=\"https://colab.research.google.com/assets/colab-badge.svg\" alt=\"Open In Colab\"/></a>"
      ]
    },
    {
      "cell_type": "markdown",
      "source": [
        "1. Sum Items in List(Write a Python program to sum all the items in a list.)"
      ],
      "metadata": {
        "id": "OBL5Sif61Bm4"
      }
    },
    {
      "cell_type": "code",
      "source": [
        "s1 = [1,2,3,4,5,6,7,8,9,10]\n",
        "s2 = [\"esha\", \"jahnavi\",\"spandana\"]\n",
        "list = s1 + s2\n",
        "print(list)"
      ],
      "metadata": {
        "colab": {
          "base_uri": "https://localhost:8080/"
        },
        "id": "LykODQgs0eWt",
        "outputId": "5965e36f-b80f-454f-d4ed-7da56d2f389f"
      },
      "execution_count": null,
      "outputs": [
        {
          "output_type": "stream",
          "name": "stdout",
          "text": [
            "[1, 2, 3, 4, 5, 6, 7, 8, 9, 10, 'esha', 'jahnavi', 'spandana']\n"
          ]
        }
      ]
    },
    {
      "cell_type": "markdown",
      "source": [
        "2. Multiply Items in List(Write a Python program to multiply all the items in a list.)"
      ],
      "metadata": {
        "id": "4jODfRKo1FrA"
      }
    },
    {
      "cell_type": "code",
      "source": [
        "def multiply_list(numbers):\n",
        "    result = 1  # Start with 1 since multiplying by 0 gives 0\n",
        "    for num in numbers:\n",
        "        result *= num  # Multiply each number with result\n",
        "    return result\n",
        "\n",
        "# Example usage\n",
        "nums = [2, 3, 4, 5]\n",
        "output = multiply_list(nums)\n",
        "print(output)"
      ],
      "metadata": {
        "colab": {
          "base_uri": "https://localhost:8080/"
        },
        "id": "Kk_GKucV1Guh",
        "outputId": "6388cb30-e270-4c67-8d22-28294f923eea"
      },
      "execution_count": null,
      "outputs": [
        {
          "output_type": "stream",
          "name": "stdout",
          "text": [
            "120\n"
          ]
        }
      ]
    },
    {
      "cell_type": "markdown",
      "source": [],
      "metadata": {
        "id": "H0eed2am2lM4"
      }
    },
    {
      "cell_type": "markdown",
      "source": [
        "3. Get Largest Number in List(Write a Python program to get the largest number from a list)"
      ],
      "metadata": {
        "id": "BXAyteH32oXY"
      }
    },
    {
      "cell_type": "code",
      "source": [
        "s = [2,3,4,5,6]\n",
        "list = max(s)\n",
        "print(list)"
      ],
      "metadata": {
        "colab": {
          "base_uri": "https://localhost:8080/"
        },
        "id": "XHcKmmsI2pOO",
        "outputId": "ef2f7b36-6e16-49f6-8268-41b961a3bb44"
      },
      "execution_count": null,
      "outputs": [
        {
          "output_type": "stream",
          "name": "stdout",
          "text": [
            "6\n"
          ]
        }
      ]
    },
    {
      "cell_type": "markdown",
      "source": [
        "4. Get Smallest Number in List(Write a Python program to get the smallest number from a list.)"
      ],
      "metadata": {
        "id": "q1kmzPrd22qd"
      }
    },
    {
      "cell_type": "code",
      "source": [
        "s = [2,3,4,5,6]\n",
        "list = min(s)\n",
        "print(list)"
      ],
      "metadata": {
        "colab": {
          "base_uri": "https://localhost:8080/"
        },
        "id": "kH20E4k423bx",
        "outputId": "34b96b67-eadf-4569-c4e4-e2b8e349d0d9"
      },
      "execution_count": null,
      "outputs": [
        {
          "output_type": "stream",
          "name": "stdout",
          "text": [
            "2\n"
          ]
        }
      ]
    },
    {
      "cell_type": "markdown",
      "source": [
        "5. Count Strings with Same Start and End(Write a Python program to count the number of strings from a given list of strings. The string length is 2 or more and the first and last characters are the same.)\n",
        "Sample List : ['abc', 'xyz', 'aba', '1221']\n",
        "Expected Result : 2"
      ],
      "metadata": {
        "id": "sn1qpq6u3eec"
      }
    },
    {
      "cell_type": "code",
      "source": [
        "def count_str(str):\n",
        "    count = 0  # Initialize a counter\n",
        "    for s in str:\n",
        "        if len(s) >= 2 and s[0] == s[-1]:  # Check if length is 2 or more and first & last chars match\n",
        "            count += 1\n",
        "    return count\n",
        "sample_list = ['abc', 'xyz', 'aba', '1221']\n",
        "result = count_str(sample_list)\n",
        "print(result)"
      ],
      "metadata": {
        "id": "FPRKiXVa3fr5"
      },
      "execution_count": null,
      "outputs": []
    },
    {
      "cell_type": "markdown",
      "source": [],
      "metadata": {
        "id": "uPJsYLnI3Ki1"
      }
    },
    {
      "cell_type": "markdown",
      "source": [],
      "metadata": {
        "id": "whXVWt3a2zX-"
      }
    },
    {
      "cell_type": "markdown",
      "source": [],
      "metadata": {
        "id": "dHbAvoOA1CzX"
      }
    },
    {
      "cell_type": "markdown",
      "source": [],
      "metadata": {
        "id": "cdPPd57i0dIQ"
      }
    }
  ]
}
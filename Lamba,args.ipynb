{
  "nbformat": 4,
  "nbformat_minor": 0,
  "metadata": {
    "colab": {
      "provenance": [],
      "authorship_tag": "ABX9TyMsmzj3L08pK4dZx/UiW+Vy",
      "include_colab_link": true
    },
    "kernelspec": {
      "name": "python3",
      "display_name": "Python 3"
    },
    "language_info": {
      "name": "python"
    }
  },
  "cells": [
    {
      "cell_type": "markdown",
      "metadata": {
        "id": "view-in-github",
        "colab_type": "text"
      },
      "source": [
        "<a href=\"https://colab.research.google.com/github/EshaReddyA/Homework/blob/Collab_assign1/Lamba%2Cargs.ipynb\" target=\"_parent\"><img src=\"https://colab.research.google.com/assets/colab-badge.svg\" alt=\"Open In Colab\"/></a>"
      ]
    },
    {
      "cell_type": "code",
      "execution_count": 3,
      "metadata": {
        "colab": {
          "base_uri": "https://localhost:8080/"
        },
        "id": "38R_NG8yhBqO",
        "outputId": "83747751-b0d2-4619-9279-932ec84939dd"
      },
      "outputs": [
        {
          "output_type": "stream",
          "name": "stdout",
          "text": [
            "Enter first number: 6\n",
            "Enter second number: 0\n",
            "Enter operation (+, -, *, /): *\n",
            "Result: 0.0\n"
          ]
        }
      ],
      "source": [
        "add = lambda a, b: a + b #defines a function add that takes two arguments a and b\n",
        "subtract = lambda a, b: a - b #defines a function sub that takes two arguments a and b\n",
        "multiply = lambda a, b: a * b#defines a function mul that takes two arguments a and b\n",
        "divide = lambda a, b: a / b #defines a function div that takes two arguments a and b\n",
        "\n",
        "# User input for numbers\n",
        "a = float(input(\"Enter first number: \")) #asks the user to enter a value,float() to convert the input so it can handle decimals\n",
        "b = float(input(\"Enter second number: \")) #asks the user to enter a value.\n",
        "\n",
        "# User input for operation\n",
        "operation = input(\"Enter operation (+, -, *, /): \") #input is stored in the variable operation as a string.\n",
        "\n",
        "# Perform operation based on user input\n",
        "if operation == \"+\":\n",
        "    print(f\"Result: {add(a, b)}\")\n",
        "elif operation == \"-\":\n",
        "    print(f\"Result: {subtract(a, b)}\")\n",
        "elif operation == \"*\":\n",
        "    print(f\"Result: {multiply(a, b)}\")\n",
        "elif operation == \"/\":\n",
        "    print(f\"Result: {divide(a, b)}\")\n",
        "else:\n",
        "    print(\"Invalid operation\")\n"
      ]
    },
    {
      "cell_type": "code",
      "source": [
        "words = [\"apple\", \"banana\", \"date\"] #creating a list,words that contains three string elements\n",
        "longest_word = max(words, key=len) #max() function finds the element with the highest value, key=len argument tells Python to compare each word’s length instead of alphabetical order\n",
        "print(longest_word) #print() function displays the result stored in longest_word"
      ],
      "metadata": {
        "colab": {
          "base_uri": "https://localhost:8080/"
        },
        "id": "V17Ci0K3jr0M",
        "outputId": "3750c818-d18b-4707-fe75-987b525db960"
      },
      "execution_count": 1,
      "outputs": [
        {
          "output_type": "stream",
          "name": "stdout",
          "text": [
            "banana\n"
          ]
        }
      ]
    },
    {
      "cell_type": "code",
      "source": [
        "checkeven = lambda x: x % 2 == 0 #lambda function checks whether x is even by calculating x % 2 == 0\n",
        "print(checkeven(1))\n",
        "print(checkeven(2))"
      ],
      "metadata": {
        "colab": {
          "base_uri": "https://localhost:8080/"
        },
        "id": "ZIl6jKlJsG3h",
        "outputId": "d5facc71-d163-4fd6-a0e8-32009387ffc0"
      },
      "execution_count": 7,
      "outputs": [
        {
          "output_type": "stream",
          "name": "stdout",
          "text": [
            "False\n",
            "True\n"
          ]
        }
      ]
    },
    {
      "cell_type": "code",
      "source": [
        "def calculator(operation, *args): #defines a function named calculator that takes a parameter operation and arguments using *args to accept multiple numbers,\n",
        "    if operation == \"+\":\n",
        "          return sum(args) # sum() function is used to calculate the sum of all numbers passed in args and returns the result.\n",
        "\n",
        "    elif operation == \"-\":\n",
        "        result = args[0] #the first number (args[0]) is assigned to result\n",
        "        for num in args[1:]:#iterates over all the numbers in args starting from the second element (args[1:] means \"from the second element onward\").\n",
        "            result -= num #it subtracts that number from the current result\n",
        "        return result\n",
        "\n",
        "    elif operation == \"*\":\n",
        "        result = 1 #result variable to 1,multiplying by 1 doesn’t change the result\n",
        "        for num in args:#ine starts a loop that goes through each number in the args list, num will represent each number one at a time as the loop iterates.\n",
        "            result *= num #multiply result by num and then store the new value back in result\n",
        "        return result\n",
        "\n",
        "    elif operation == \"/\":\n",
        "        result = args[0] # first number in the list of inputs (args[0]) is assigned to the variable result\n",
        "        for num in args[1:]: #loop iterates over all numbers starting from the second element (args[1:])as We start from args[1:] because the first number (args[0]) has already been assigned to result.\n",
        "            if num == 0:\n",
        "                return \"Error: Division by zero!\" #If the number is 0, dividing by zero is mathematically undefined, so we return an error message\n",
        "            result /= num #divide result by num and assign the result back to result\n",
        "\n",
        "\n",
        "        return result\n",
        "\n",
        "    else:\n",
        "        return \"Invalid operation! Use 'add', 'subtract', 'multiply', or 'divide'.\"\n",
        "\n",
        "# Get user input\n",
        "operation = input(\"Enter operation (add, subtract, multiply, divide): \") #user to input an operation (either \"add\", \"subtract\", \"multiply\", or \"divide\")\n",
        "numbers = [float(x) for x in input(\"Enter numbers separated by space: \").split()] #.split() splits the input string into a list of numbers as strings\n",
        "                                                                                  #[float(x) for x in ...] converts each string to a float\n",
        "\n",
        "\n",
        "\n",
        "# Call function and print result\n",
        "print(\"Result:\", calculator(operation, *numbers))\n",
        "\n"
      ],
      "metadata": {
        "colab": {
          "base_uri": "https://localhost:8080/"
        },
        "id": "5deLjzFQWTl0",
        "outputId": "b70bce34-b939-477b-8456-f7b20b27f807"
      },
      "execution_count": 17,
      "outputs": [
        {
          "output_type": "stream",
          "name": "stdout",
          "text": [
            "Enter operation (add, subtract, multiply, divide): +\n",
            "Enter numbers separated by space: 1 2\n",
            "Result: 3.0\n"
          ]
        }
      ]
    },
    {
      "cell_type": "markdown",
      "source": [],
      "metadata": {
        "id": "p2TYlbiLsGkM"
      }
    }
  ]
}
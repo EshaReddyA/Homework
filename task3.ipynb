{
  "nbformat": 4,
  "nbformat_minor": 0,
  "metadata": {
    "colab": {
      "provenance": [],
      "authorship_tag": "ABX9TyPkZ5vPR6woMlxfawuIMDNA",
      "include_colab_link": true
    },
    "kernelspec": {
      "name": "python3",
      "display_name": "Python 3"
    },
    "language_info": {
      "name": "python"
    }
  },
  "cells": [
    {
      "cell_type": "markdown",
      "metadata": {
        "id": "view-in-github",
        "colab_type": "text"
      },
      "source": [
        "<a href=\"https://colab.research.google.com/github/EshaReddyA/Homework/blob/Collab_assign1/task3.ipynb\" target=\"_parent\"><img src=\"https://colab.research.google.com/assets/colab-badge.svg\" alt=\"Open In Colab\"/></a>"
      ]
    },
    {
      "cell_type": "markdown",
      "source": [
        " write a python promaing factorial of a number(user_input)"
      ],
      "metadata": {
        "id": "GPjSTNeVtKiz"
      }
    },
    {
      "cell_type": "code",
      "execution_count": null,
      "metadata": {
        "id": "P7C53S_XcZJL"
      },
      "outputs": [],
      "source": [
        "def fact(n):\n",
        " if n == 0:\n",
        "      return 1\n",
        " result = 1\n",
        " for i in range(1, n + 1):\n",
        "    result *= i\n",
        " return result\n",
        "n = int(input(\"Enter a number: \"))\n",
        "fact =fact(n)\n",
        "print(\"factorial of\",n,\"is\",fact)"
      ]
    },
    {
      "cell_type": "markdown",
      "source": [
        "multiplication code\n"
      ],
      "metadata": {
        "id": "vOBgvPRVya-I"
      }
    },
    {
      "cell_type": "code",
      "source": [
        "def multiplication(number):\n",
        " for i in range(1,11):\n",
        "   print(f\"{number} x {i} = {number * i}\")\n",
        " return\n",
        "number= int(input(\"Enter a number: \"))\n",
        "multiplication(number)"
      ],
      "metadata": {
        "id": "bDt9Ry98yjxG",
        "colab": {
          "base_uri": "https://localhost:8080/"
        },
        "outputId": "729beb0e-1af5-4b63-cd52-fa23cfa2ed0a"
      },
      "execution_count": 54,
      "outputs": [
        {
          "output_type": "stream",
          "name": "stdout",
          "text": [
            "Enter a number: 3\n",
            "3 x 1 = 3\n",
            "3 x 2 = 6\n",
            "3 x 3 = 9\n",
            "3 x 4 = 12\n",
            "3 x 5 = 15\n",
            "3 x 6 = 18\n",
            "3 x 7 = 21\n",
            "3 x 8 = 24\n",
            "3 x 9 = 27\n",
            "3 x 10 = 30\n"
          ]
        }
      ]
    },
    {
      "cell_type": "markdown",
      "source": [],
      "metadata": {
        "id": "RVkuoX0w0alV"
      }
    },
    {
      "cell_type": "markdown",
      "source": [
        "check if a number is prime or not"
      ],
      "metadata": {
        "id": "oN6Yf0xt7oHI"
      }
    },
    {
      "cell_type": "code",
      "source": [
        "def prime(n):\n",
        "    if n <= 1:\n",
        "        return False\n",
        "    elif n == 2:\n",
        "        return True\n",
        "    elif n % 2 == 0:\n",
        "        return False\n",
        "\n",
        "    for i in range(3, n, 2):\n",
        "        if n % i == 0:\n",
        "            return False\n",
        "    return True\n",
        "\n",
        "n = int(input(\"Enter a number: \"))\n",
        "if prime(n):\n",
        "    print(f\"{n} is a prime number\")\n",
        "else:\n",
        "    print(f\"{n} is not a prime number\")\n"
      ],
      "metadata": {
        "colab": {
          "base_uri": "https://localhost:8080/"
        },
        "id": "PKiXdx-Y2990",
        "outputId": "4811e4bd-d739-4316-a504-b6013836b51a"
      },
      "execution_count": 62,
      "outputs": [
        {
          "output_type": "stream",
          "name": "stdout",
          "text": [
            "Enter a number: 8\n",
            "8 is not a prime number\n"
          ]
        }
      ]
    },
    {
      "cell_type": "markdown",
      "source": [
        "Palindrome"
      ],
      "metadata": {
        "id": "Tb6YP6Tv9cl2"
      }
    },
    {
      "cell_type": "code",
      "source": [
        "def palindrome(num):\n",
        "    original = num\n",
        "    reverse = 0\n",
        "\n",
        "    while num > 0:\n",
        "        digit = num % 10\n",
        "        reverse = reverse * 10 + digit\n",
        "        num //= 10\n",
        "\n",
        "    return original == reverse\n",
        "num = int(input(\"Enter a number: \"))\n",
        "print(\"Palindrome\" if palindrome(num) else \"Not a palindrome\")"
      ],
      "metadata": {
        "colab": {
          "base_uri": "https://localhost:8080/"
        },
        "id": "QzI50PPB7Tmy",
        "outputId": "1f70627d-db62-4297-a3ac-ca6e7149bc8c"
      },
      "execution_count": 65,
      "outputs": [
        {
          "output_type": "stream",
          "name": "stdout",
          "text": [
            "Enter a number: 678\n",
            "Not a palindrome\n"
          ]
        }
      ]
    },
    {
      "cell_type": "markdown",
      "source": [
        "fibanocii"
      ],
      "metadata": {
        "id": "SWpW30tz-lzY"
      }
    },
    {
      "cell_type": "code",
      "source": [
        "def fibonacci(n):\n",
        "    if n <= 0:\n",
        "        return 0\n",
        "\n",
        "    elif n == 1:\n",
        "        return 1\n",
        "    else:\n",
        "        return f(n - 1) + f(n - 2)\n",
        "num = int(input(\"Enter the position: \"))\n",
        "print(f\"Fibonacci number at position {num} is {fibonacci(num)}\")"
      ],
      "metadata": {
        "colab": {
          "base_uri": "https://localhost:8080/"
        },
        "id": "zKn2XgoL-nMt",
        "outputId": "e45bc115-8be5-44d0-82bc-985916f030cf"
      },
      "execution_count": 72,
      "outputs": [
        {
          "output_type": "stream",
          "name": "stdout",
          "text": [
            "Enter the position: 9\n",
            "Fibonacci number at position 9 is 34\n"
          ]
        }
      ]
    }
  ]
}
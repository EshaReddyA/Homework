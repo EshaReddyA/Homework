{
  "nbformat": 4,
  "nbformat_minor": 0,
  "metadata": {
    "colab": {
      "provenance": [],
      "authorship_tag": "ABX9TyMSNnVxQB6Xh2Cvwi6smRWM",
      "include_colab_link": true
    },
    "kernelspec": {
      "name": "python3",
      "display_name": "Python 3"
    },
    "language_info": {
      "name": "python"
    }
  },
  "cells": [
    {
      "cell_type": "markdown",
      "metadata": {
        "id": "view-in-github",
        "colab_type": "text"
      },
      "source": [
        "<a href=\"https://colab.research.google.com/github/EshaReddyA/Homework/blob/Collab_assign1/stringscode.ipynb\" target=\"_parent\"><img src=\"https://colab.research.google.com/assets/colab-badge.svg\" alt=\"Open In Colab\"/></a>"
      ]
    },
    {
      "cell_type": "code",
      "source": [
        "def extractnum(x): # def function extraxtnum with argument x\n",
        "  a = [] # an empty list text to store the numbers from the x(input)\n",
        "  current_number =\"\" #emporarily holds digits while analyzing the string.\n",
        "  for char in x: #for loop to check char in x\n",
        "    if 48<= ord(char) <=57: # checks if character is a number or string if the character is between 48 and 57 in ascii value then it is a number\n",
        "      current_number += char # here if it is a multi digit number it is added to current_number\n",
        "    else:\n",
        "      if current_number: #if not digit\n",
        "        a.append(current_number)# we are adding number that is in current_number to list \"a\"\n",
        "      current_number = \"\"# here current_number is an empty string again and ready to start collecting the num\n",
        "  return \",\".join(a) #return the text by joining the digits that are present in the list using\",\"\n",
        "x = \"There are 24 apples and 12 apples\" #input\n",
        "output = extractnum(x) # calling the main function\n",
        "print(output)"
      ],
      "metadata": {
        "colab": {
          "base_uri": "https://localhost:8080/"
        },
        "id": "SiHR65Fft8RU",
        "outputId": "c3f70f5b-d601-4fa7-cbbc-0c244a122dac"
      },
      "execution_count": 2,
      "outputs": [
        {
          "output_type": "stream",
          "name": "stdout",
          "text": [
            "24,12\n"
          ]
        }
      ]
    },
    {
      "cell_type": "code",
      "source": [
        "def valid_email(email): #This defines a function named valid_email that takes an argument email.\n",
        "    if email.endswith(\".com\") and \"@\" in email:  #checks if the email string ends with .com and @ where it should satisfy  both the conditions\n",
        "        return True\n",
        "    else:\n",
        "        return False\n",
        "\n",
        "input_email = \"test@example.com\" #This assigns the string \"test@example.com\" to the input_email.\n",
        "output = valid_email(input_email) #Calls the valid_email function, passing \"test@example.com\" as the email argument.\n",
        "print(\"Valid Email\" if output else \"Invalid Email\")#If output is True, it prints \"Valid Email\" else is False, it prints \"Invalid Email\"."
      ],
      "metadata": {
        "colab": {
          "base_uri": "https://localhost:8080/"
        },
        "id": "dfiUw3fxyZnL",
        "outputId": "de32c318-c93d-4cc2-a153-dd7850ca7b48"
      },
      "execution_count": 2,
      "outputs": [
        {
          "output_type": "stream",
          "name": "stdout",
          "text": [
            "Valid Email\n"
          ]
        }
      ]
    },
    {
      "cell_type": "code",
      "source": [
        "input = \"Python  is    cool\"\n",
        "output = \"\" #An empty string to store the modified result.\n",
        "space = False #a variable that keeps track of whether the last character added to output was a space,used to avoid multiple spaces\n",
        "\n",
        "for char in input: #Iterates through each character in the input string one by one\n",
        "    ascii_val = ord(char) #ord(char) gets the ASCII (numerical) value of char which Convert Character to ASCII\n",
        "\n",
        "    if ascii_val == 32: #checks if the character is a space (' '),If space is False, meaning the last added character was not a space, we Add one space to output.\n",
        "        if not space:\n",
        "            output += char\n",
        "        space = True\n",
        "    elif 65 <= ascii_val <= 90: #Checks if the character is an uppercase letter ('A' to 'Z').\n",
        "        output += chr(ascii_val + 32) #Converts it to lowercase by adding 32 to its ASCII value.\n",
        "        space = False #The character is appended to output, and space is reset to False\n",
        "    else:\n",
        "        output += char #If it's not a space and not an uppercase letter,Directly add the character to output.Reset space = False since it's not a space.\n",
        "        space = False\n",
        "\n",
        "output = output.strip()  #removes extra spaces.\n",
        "\n",
        "print(output)  #prints the modified string\n"
      ],
      "metadata": {
        "colab": {
          "base_uri": "https://localhost:8080/"
        },
        "id": "GhZxv5Ye-HMZ",
        "outputId": "7c1021ae-128a-4891-8bee-f3f2ffec7877"
      },
      "execution_count": 36,
      "outputs": [
        {
          "output_type": "stream",
          "name": "stdout",
          "text": [
            "python is cool\n"
          ]
        }
      ]
    },
    {
      "cell_type": "code",
      "source": [
        "def capital_words(a): #function named capital_words which takes one argument a\n",
        "    words = a.split(\" \")  #This line splits the string a into a list of words using a space (\" \") as the delimiter\n",
        "    capital_words = \"\"  # Initialize as an empty string It will be used to build a new string containing only the words that start with a capital letter.\n",
        "\n",
        "    for word in words: #for loop to iterate through each word in the words list\n",
        "        if 65 <= ord(word[0]) <= 90:  # Check if the first letter is uppercase\n",
        "            if capital_words:  #ord(word[0]) gets the ASCII value of the first character of the word.\n",
        "                capital_words += \", \"  # Add a comma and space before appending a new word\n",
        "            capital_words += f\"'{word}'\"  #adds current word to capital_words,in single quotes ('word').\n",
        "                                          #It uses Python’s f-string formatting to insert the word.\n",
        "\n",
        "    print(capital_words)  # Output the result\n",
        "a = \"Today is a Good Day\"\n",
        "capital_words(a)"
      ],
      "metadata": {
        "colab": {
          "base_uri": "https://localhost:8080/"
        },
        "id": "3fY5JBDLSP1J",
        "outputId": "799ec764-ca9f-4302-df88-3f2a9b2e176e"
      },
      "execution_count": 3,
      "outputs": [
        {
          "output_type": "stream",
          "name": "stdout",
          "text": [
            "'Today', 'Good', 'Day'\n"
          ]
        }
      ]
    }
  ]
}
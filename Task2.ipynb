{
  "nbformat": 4,
  "nbformat_minor": 0,
  "metadata": {
    "colab": {
      "provenance": [],
      "authorship_tag": "ABX9TyOP1Jo7BySJtqgWI2xeHNIE",
      "include_colab_link": true
    },
    "kernelspec": {
      "name": "python3",
      "display_name": "Python 3"
    },
    "language_info": {
      "name": "python"
    }
  },
  "cells": [
    {
      "cell_type": "markdown",
      "metadata": {
        "id": "view-in-github",
        "colab_type": "text"
      },
      "source": [
        "<a href=\"https://colab.research.google.com/github/EshaReddyA/Homework/blob/Collab_assign1/Task2.ipynb\" target=\"_parent\"><img src=\"https://colab.research.google.com/assets/colab-badge.svg\" alt=\"Open In Colab\"/></a>"
      ]
    },
    {
      "cell_type": "code",
      "execution_count": 3,
      "metadata": {
        "colab": {
          "base_uri": "https://localhost:8080/"
        },
        "id": "9kEtvG7sNiNz",
        "outputId": "63176965-bc01-4e1d-87f7-db6e93beeda7"
      },
      "outputs": [
        {
          "output_type": "stream",
          "name": "stdout",
          "text": [
            "Enter the radius of the circle: 4\n",
            "The area of the circle with radius 50.24\n"
          ]
        }
      ],
      "source": [
        "\n",
        "r = float(input(\"Enter the radius of the circle: \"))\n",
        "area = 3.14*r**2\n",
        "print(f\"The area of the circle with radius\",area)"
      ]
    },
    {
      "cell_type": "markdown",
      "source": [
        "Take user input number +positive or -negative, write a condition if the number is positive or negative"
      ],
      "metadata": {
        "id": "wfrznrtGzWbR"
      }
    },
    {
      "cell_type": "code",
      "source": [
        "x = int(input(\"Enter the number\"))\n",
        "if x>0:\n",
        "  print(\"Positive\")\n",
        "else:\n",
        "  print(\"Negative\")"
      ],
      "metadata": {
        "colab": {
          "base_uri": "https://localhost:8080/"
        },
        "id": "qW7r-6jlP_9P",
        "outputId": "5c5ceb61-90ac-487a-a8a1-a3a2b4bd4c7c"
      },
      "execution_count": 6,
      "outputs": [
        {
          "output_type": "stream",
          "name": "stdout",
          "text": [
            "Enter the number-9\n",
            "Negative\n"
          ]
        }
      ]
    },
    {
      "cell_type": "code",
      "source": [
        "value1=int(input(\"Enter the value1:\"))\n",
        "value2=int(input(\"Enter the value2:\"))\n",
        "for value in range(value1,value2+ 1):\n",
        "  if value%2==0:\n",
        "    print(value,\"it is even\")\n",
        "  else:\n",
        "      print(value,\"it is odd\")"
      ],
      "metadata": {
        "colab": {
          "base_uri": "https://localhost:8080/"
        },
        "id": "jz1kH6g8YMw9",
        "outputId": "1af0641a-682a-4bae-ac8c-9198fab8cdf6"
      },
      "execution_count": 8,
      "outputs": [
        {
          "output_type": "stream",
          "name": "stdout",
          "text": [
            "Enter the value1:2\n",
            "Enter the value2:8\n",
            "2 it is even\n",
            "3 it is odd\n",
            "4 it is even\n",
            "5 it is odd\n",
            "6 it is even\n",
            "7 it is odd\n",
            "8 it is even\n"
          ]
        }
      ]
    },
    {
      "cell_type": "code",
      "source": [
        "def even_num(start_point, end_point):\n",
        "    for n in range(start_point, end_point + 1):\n",
        "        if n % 2 == 0:\n",
        "            print(n)\n",
        "start_point = int(input(\"Enter starting point: \"))\n",
        "end_point = int(input(\"Enter ending point: \"))\n",
        "even_num(start_point, end_point)"
      ],
      "metadata": {
        "colab": {
          "base_uri": "https://localhost:8080/"
        },
        "id": "wuk70fU4bRy3",
        "outputId": "378b0148-33fc-4a84-8e6c-d3e12ab0609a"
      },
      "execution_count": 20,
      "outputs": [
        {
          "output_type": "stream",
          "name": "stdout",
          "text": [
            "Enter starting point: 10\n",
            "Enter ending point: 90\n",
            "10\n",
            "12\n",
            "14\n",
            "16\n",
            "18\n",
            "20\n",
            "22\n",
            "24\n",
            "26\n",
            "28\n",
            "30\n",
            "32\n",
            "34\n",
            "36\n",
            "38\n",
            "40\n",
            "42\n",
            "44\n",
            "46\n",
            "48\n",
            "50\n",
            "52\n",
            "54\n",
            "56\n",
            "58\n",
            "60\n",
            "62\n",
            "64\n",
            "66\n",
            "68\n",
            "70\n",
            "72\n",
            "74\n",
            "76\n",
            "78\n",
            "80\n",
            "82\n",
            "84\n",
            "86\n",
            "88\n",
            "90\n"
          ]
        }
      ]
    },
    {
      "cell_type": "markdown",
      "source": [
        "Take three user inputs number1, number2 and operand make a calculator"
      ],
      "metadata": {
        "id": "AJvBi2jp0BwZ"
      }
    },
    {
      "cell_type": "code",
      "source": [
        "number1 = int(input(\"Enter the number1:\"))\n",
        "number2 = int(input(\"Enter the number2:\"))\n",
        "operand = input(\"Enter the operand\")\n",
        "if operand == \"+\":\n",
        "  print(number1+number2)\n",
        "elif operand == \"-\":\n",
        "       print(number1-number2)\n",
        "elif operand == \"*\":\n",
        "      print(number1*number2)\n",
        "elif operand == \"/\":\n",
        "      print(number1/number2)\n",
        "elif operand == \"%\":\n",
        "      print(number1%number2)\n",
        "else:\n",
        "      print(\"Invalid operand\")"
      ],
      "metadata": {
        "colab": {
          "base_uri": "https://localhost:8080/"
        },
        "id": "rJFao1Tu0SLk",
        "outputId": "bda801cd-283d-441d-9609-0d5bf4c59ded"
      },
      "execution_count": 15,
      "outputs": [
        {
          "output_type": "stream",
          "name": "stdout",
          "text": [
            "Enter the number1:2\n",
            "Enter the number22\n",
            "Enter the operand+\n",
            "4\n"
          ]
        }
      ]
    },
    {
      "cell_type": "markdown",
      "source": [
        "Write a Python program to print all even numbers from a given list of numbers in the same order and stop printing any after 237 in the sequence.\n",
        "Sample numbers list :\n",
        "\n",
        "numbers = [    \n",
        "    386, 462, 47, 418, 907, 344, 236, 375, 823, 566, 597, 978, 328, 615, 953, 345,\n",
        "    399, 162, 758, 219, 918, 237, 412, 566, 826, 248, 866, 950, 626, 949, 687, 217,\n",
        "    815, 67, 104, 58, 512, 24, 892, 894, 767, 553, 81, 379, 843, 831, 445, 742, 717,\n",
        "    958,743, 527\n",
        "    ]"
      ],
      "metadata": {
        "id": "RNyj0CUp1-YK"
      }
    },
    {
      "cell_type": "code",
      "source": [
        "list = [\n",
        "386, 462, 47, 418, 907, 344, 236, 375, 823, 566, 597, 978, 328, 615, 953, 345, 399, 162, 758, 219, 918, 237, 412, 566, 826, 248, 866, 950,\n",
        "            626, 949, 687, 217, 815, 67, 104, 58, 512, 24, 892, 894, 767, 553, 81, 379, 843, 831, 445, 742, 717, 958,743, 527 ]\n",
        "for number in list:\n",
        "  if number == 237:\n",
        "   print(number)\n",
        "   break\n",
        "  elif number %2==0:\n",
        "   print(number)\n"
      ],
      "metadata": {
        "colab": {
          "base_uri": "https://localhost:8080/"
        },
        "id": "yVzxbWHn1-JE",
        "outputId": "55a140e4-ab13-47d1-b295-544e07095014"
      },
      "execution_count": 31,
      "outputs": [
        {
          "output_type": "stream",
          "name": "stdout",
          "text": [
            "386\n",
            "462\n",
            "418\n",
            "344\n",
            "236\n",
            "566\n",
            "978\n",
            "328\n",
            "162\n",
            "758\n",
            "918\n",
            "237\n"
          ]
        }
      ]
    },
    {
      "cell_type": "markdown",
      "source": [
        "print program using *"
      ],
      "metadata": {
        "id": "qiWv3Ger57cl"
      }
    },
    {
      "cell_type": "code",
      "source": [
        "print(\"*\")\n",
        "print(\"* *\")\n",
        "print(\"* * *\")\n",
        "print(\"* * * *\")\n",
        "print(\"* * * * *\")"
      ],
      "metadata": {
        "colab": {
          "base_uri": "https://localhost:8080/"
        },
        "id": "xA4UUJD_5-Yw",
        "outputId": "733d7bb0-dc6c-4c38-e7cb-d3d2c6fab604"
      },
      "execution_count": 35,
      "outputs": [
        {
          "output_type": "stream",
          "name": "stdout",
          "text": [
            "*\n",
            "* *\n",
            "* * *\n",
            "* * * *\n",
            "* * * * *\n"
          ]
        }
      ]
    }
  ]
}
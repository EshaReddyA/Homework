{
  "nbformat": 4,
  "nbformat_minor": 0,
  "metadata": {
    "colab": {
      "provenance": [],
      "authorship_tag": "ABX9TyNSw3P6ult6/rNq6Ri887XP",
      "include_colab_link": true
    },
    "kernelspec": {
      "name": "python3",
      "display_name": "Python 3"
    },
    "language_info": {
      "name": "python"
    }
  },
  "cells": [
    {
      "cell_type": "markdown",
      "metadata": {
        "id": "view-in-github",
        "colab_type": "text"
      },
      "source": [
        "<a href=\"https://colab.research.google.com/github/EshaReddyA/Homework/blob/Collab_assign1/task6.ipynb\" target=\"_parent\"><img src=\"https://colab.research.google.com/assets/colab-badge.svg\" alt=\"Open In Colab\"/></a>"
      ]
    },
    {
      "cell_type": "code",
      "source": [
        "def are_anagrams(main_word, sub_word):\n",
        "    return sorted(main_word) == sorted(sub_word)\n",
        "\n",
        "main_word = input(\"Enter the main word: \")\n",
        "sub_word = input(\"Enter the sub word: \")\n",
        "if are_anagrams(main_word, sub_word):\n",
        "    print(\"The words are anagrams\")\n",
        "else:\n",
        "    print(\"The words are not anagrams\")"
      ],
      "metadata": {
        "colab": {
          "base_uri": "https://localhost:8080/"
        },
        "id": "rWxSdC5lE5hQ",
        "outputId": "6205697c-6094-4aa2-f5e5-01d1b72e18e7"
      },
      "execution_count": 30,
      "outputs": [
        {
          "output_type": "stream",
          "name": "stdout",
          "text": [
            "Enter the main word: esha\n",
            "Enter the sub word: ashe\n",
            "The words are anagrams.\n"
          ]
        }
      ]
    },
    {
      "cell_type": "code",
      "source": [
        "def most_frequent_char(string):\n",
        "    freq = {}\n",
        "\n",
        "    for char in string:\n",
        "        if char in freq:\n",
        "            freq[char] += 1\n",
        "        else:\n",
        "            freq[char] = 1\n",
        "\n",
        "    max_freq = max(freq.values())\n",
        "    most_frequent = [char for char, count in freq.items() if count == max_freq]\n",
        "\n",
        "    return most_frequent\n",
        "\n",
        "string = input(\"Enter a string: \")\n",
        "result = most_frequent_char(string)\n",
        "print(f\"The most frequent character(s): {', '.join(result)}\")\n"
      ],
      "metadata": {
        "colab": {
          "base_uri": "https://localhost:8080/"
        },
        "id": "oAH1TXoLFDAo",
        "outputId": "de3ef5a7-a86a-4e86-d3a1-58969d206df8"
      },
      "execution_count": 33,
      "outputs": [
        {
          "output_type": "stream",
          "name": "stdout",
          "text": [
            "Enter a string: eshareddy\n",
            "The most frequent character(s): e, d\n",
            "The most frequent character(s): e, d\n"
          ]
        }
      ]
    },
    {
      "cell_type": "code",
      "source": [
        "def remove_duplicates(string):\n",
        "\n",
        "    result = \"\"\n",
        "\n",
        "    for char in string:\n",
        "        found = False\n",
        "        for res_char in result:\n",
        "            if char == res_char:\n",
        "                found = True\n",
        "                break\n",
        "        if not found:\n",
        "            result += char\n",
        "\n",
        "    return result\n",
        "\n",
        "\n",
        "string = input(\"Enter a string: \")\n",
        "output = remove_duplicates(string)\n",
        "print(\"String after removing duplicates:\", output)"
      ],
      "metadata": {
        "id": "vtQOwOamHSwn"
      },
      "execution_count": null,
      "outputs": []
    },
    {
      "cell_type": "code",
      "source": [
        "\n",
        "def capitalize_first_letter(string):\n",
        "    if string:\n",
        "\n",
        "        return chr(ord(string[0]) - 32) + string[1:] if 'a' <= string[0] <= 'z' else string\n",
        "    return string\n",
        "\n",
        "string = input(\"Enter a string: \")\n",
        "\n",
        "output = capitalize_first_letter(string)\n",
        "print(\"String with first letter capitalized:\", output)\n"
      ],
      "metadata": {
        "colab": {
          "base_uri": "https://localhost:8080/"
        },
        "id": "MR9cOBdkH2-U",
        "outputId": "2e8af6d0-3b2a-49c0-fccd-7d5ad458dff1"
      },
      "execution_count": 37,
      "outputs": [
        {
          "output_type": "stream",
          "name": "stdout",
          "text": [
            "Enter a string: docg\n",
            "String with first letter capitalized: Docg\n"
          ]
        }
      ]
    },
    {
      "cell_type": "markdown",
      "source": [
        "capitalize() Changes the first character to upper case"
      ],
      "metadata": {
        "id": "cXAAhqUBtp7f"
      }
    },
    {
      "cell_type": "code",
      "source": [
        "def custom_capitalize(s):\n",
        "    if not s:\n",
        "        return \"\"\n",
        "    return s[0].upper() + s[1:].lower()\n",
        "\n",
        "print(custom_capitalize(\"hello world\"))"
      ],
      "metadata": {
        "colab": {
          "base_uri": "https://localhost:8080/"
        },
        "id": "FX5J8z4-twA_",
        "outputId": "1dfab8e4-23b6-4460-eab1-09e41943166d"
      },
      "execution_count": 1,
      "outputs": [
        {
          "output_type": "stream",
          "name": "stdout",
          "text": [
            "Hello world\n"
          ]
        }
      ]
    },
    {
      "cell_type": "markdown",
      "source": [
        "casefold() Converts the string to lowercase (more aggressive than lower())."
      ],
      "metadata": {
        "id": "EsGWB1zBuADk"
      }
    },
    {
      "cell_type": "code",
      "source": [
        "def custom_casefold(s):\n",
        "    return s.lower()\n",
        "\n",
        "text = \"HELLO WORLD\"\n",
        "print(custom_casefold(text))"
      ],
      "metadata": {
        "id": "MzzooVNkuDMR"
      },
      "execution_count": null,
      "outputs": []
    },
    {
      "cell_type": "markdown",
      "source": [
        "center(width, fillchar) Returns a centered string with a specified width and optional fill character."
      ],
      "metadata": {
        "id": "hS9fKN9zuvNO"
      }
    },
    {
      "cell_type": "code",
      "source": [
        "def custom_center(text, width, fillchar=\"-\"):\n",
        "    if len(text) >= width:\n",
        "        return text\n",
        "\n",
        "    total_padding = width - len(text)\n",
        "    left_padding = total_padding // 2\n",
        "    right_padding = total_padding - left_padding\n",
        "\n",
        "    return (fillchar * left_padding) + text + (fillchar * right_padding)\n",
        "\n",
        "print(custom_center(\"hello\", 10, \"-\"))"
      ],
      "metadata": {
        "colab": {
          "base_uri": "https://localhost:8080/"
        },
        "id": "cZQs3yt5w4rT",
        "outputId": "6fa323ae-9663-4155-b1a3-7f5b42c0455c"
      },
      "execution_count": 2,
      "outputs": [
        {
          "output_type": "stream",
          "name": "stdout",
          "text": [
            "--hello---\n"
          ]
        }
      ]
    },
    {
      "cell_type": "markdown",
      "source": [
        "count() Returns the number of times a specified value occurs in a string"
      ],
      "metadata": {
        "id": "FiCBJepXxJ6M"
      }
    },
    {
      "cell_type": "code",
      "source": [
        "def custom_count(text, char):\n",
        "    count = 0\n",
        "    for letter in text:\n",
        "        if letter == char:\n",
        "            count += 1\n",
        "    return count\n",
        "\n",
        "print(custom_count(\"pineapple\", \"a\"))"
      ],
      "metadata": {
        "colab": {
          "base_uri": "https://localhost:8080/"
        },
        "id": "1qUzT2_RxMPR",
        "outputId": "3aeaab0b-a38f-4cb0-8138-27df05c24ad2"
      },
      "execution_count": 11,
      "outputs": [
        {
          "output_type": "stream",
          "name": "stdout",
          "text": [
            "1\n"
          ]
        }
      ]
    },
    {
      "cell_type": "markdown",
      "source": [
        "encode() Returns an encoded version of the string"
      ],
      "metadata": {
        "id": "BnBRcf-xxXdJ"
      }
    },
    {
      "cell_type": "code",
      "source": [
        "def custom_encode(text, encoding=\"utf-8\"):\n",
        "    return bytes(text, encoding)\n",
        "\n",
        "print(custom_encode(\"hello\"))"
      ],
      "metadata": {
        "colab": {
          "base_uri": "https://localhost:8080/"
        },
        "id": "UZ4zTp9lxaCS",
        "outputId": "34280510-6638-495b-cffc-81fb9b6b1630"
      },
      "execution_count": 10,
      "outputs": [
        {
          "output_type": "stream",
          "name": "stdout",
          "text": [
            "b'hello'\n"
          ]
        }
      ]
    },
    {
      "cell_type": "markdown",
      "source": [
        "endswith() Returns true if the string ends with the specified value"
      ],
      "metadata": {
        "id": "lTmGxLdpxuxU"
      }
    },
    {
      "cell_type": "code",
      "source": [
        "def custom_endswith(text, suffix):\n",
        "    return text[-len(suffix):] == suffix\n",
        "\n",
        "print(custom_endswith(\"Book.txt\", \".txt\"))"
      ],
      "metadata": {
        "colab": {
          "base_uri": "https://localhost:8080/"
        },
        "id": "CitNwpzrxxXw",
        "outputId": "eb40d08d-41c7-4a94-c8df-14ab2835f46e"
      },
      "execution_count": 9,
      "outputs": [
        {
          "output_type": "stream",
          "name": "stdout",
          "text": [
            "True\n"
          ]
        }
      ]
    },
    {
      "cell_type": "markdown",
      "source": [
        "expandtabs() Sets the tab size of the string"
      ],
      "metadata": {
        "id": "dbTXY-Z1yfOT"
      }
    },
    {
      "cell_type": "code",
      "source": [
        "def custom_expandtabs(text, tabsize=8):\n",
        "    result = \"\"\n",
        "    for char in text:\n",
        "        if char == \"\\t\":\n",
        "            result += \" \" * tabsize\n",
        "        else:\n",
        "            result += char\n",
        "    return result\n",
        "\n",
        "# Test the function\n",
        "text = \"Hello\\tWorld\"\n",
        "print(custom_expandtabs(text, 4))"
      ],
      "metadata": {
        "colab": {
          "base_uri": "https://localhost:8080/"
        },
        "id": "3aDJwhiPyihG",
        "outputId": "eb01a401-ccb0-4b55-ba59-33405d794a88"
      },
      "execution_count": 5,
      "outputs": [
        {
          "output_type": "stream",
          "name": "stdout",
          "text": [
            "Hello    World\n"
          ]
        }
      ]
    },
    {
      "cell_type": "markdown",
      "source": [
        "find() Searches the string for a specified value and returns the position of where it was found"
      ],
      "metadata": {
        "id": "JklyQkEazHOf"
      }
    },
    {
      "cell_type": "code",
      "source": [
        "def find(text, target):\n",
        "    for i in range(len(text) - len(target) + 1):\n",
        "        if text[i:i+len(target)] == target:\n",
        "            return i\n",
        "    return -1\n",
        "text = input(\"Enter the string: \")\n",
        "target = input(\"Enter the substring to find: \")\n",
        "\n",
        "result = find(text, target)\n",
        "\n",
        "\n",
        "if result != -1:\n",
        "    print(f\"Substring '{target}' found at index {result}\")\n",
        "else:\n",
        "    print(f\"Substring '{target}' not found\")\n"
      ],
      "metadata": {
        "colab": {
          "base_uri": "https://localhost:8080/"
        },
        "id": "BMtUg2k0zK3k",
        "outputId": "081557b5-e755-4532-e65e-f37df5ae9cf6"
      },
      "execution_count": 13,
      "outputs": [
        {
          "output_type": "stream",
          "name": "stdout",
          "text": [
            "Enter the string: esha reddy\n",
            "Enter the substring to find: esha\n",
            "Substring 'esha' found at index 0\n"
          ]
        }
      ]
    },
    {
      "cell_type": "markdown",
      "source": [
        "format() Formats specified values in a string"
      ],
      "metadata": {
        "id": "4c8rqvYq1rIS"
      }
    },
    {
      "cell_type": "code",
      "source": [
        "def custom_format(text, *args):\n",
        "\n",
        "    parts = text.split('{}')\n",
        "    if len(parts) - 1 != len(args):\n",
        "        raise ValueError(\"Number of placeholders '{}' does not match the number of arguments\")\n",
        "\n",
        "    result = parts[0]\n",
        "\n",
        "    for i in range(len(args)):\n",
        "        result += str(args[i])\n",
        "        result += parts[i + 1]\n",
        "\n",
        "    return result\n",
        "\n",
        "text = \"Hello, {}!\"\n",
        "formatted_text = custom_format(text, \"Esha\")\n",
        "print(formatted_text)  # Output: Hello, Esha!\n",
        "\n",
        "\n",
        "\n"
      ],
      "metadata": {
        "colab": {
          "base_uri": "https://localhost:8080/"
        },
        "id": "XA4OWJpd1ukC",
        "outputId": "240ac50e-1d03-49f5-dd52-dacd58225621"
      },
      "execution_count": 19,
      "outputs": [
        {
          "output_type": "stream",
          "name": "stdout",
          "text": [
            "Hello, Esha!\n"
          ]
        }
      ]
    },
    {
      "cell_type": "markdown",
      "source": [
        "index() Searches the string for a specified value and returns the position of where it was found"
      ],
      "metadata": {
        "id": "2xiAjUXP_FO8"
      }
    },
    {
      "cell_type": "code",
      "source": [
        "def custom_index(text, search_substring):\n",
        "    \"\"\"Simulate the behavior of str.index().\"\"\"\n",
        "    for i in range(len(text) - len(search_substring) + 1):\n",
        "        if text[i:i + len(search_substring)] == search_substring:\n",
        "            return i\n",
        "    raise ValueError(f\"'{search_substring}' not found in the string\")\n",
        "\n",
        "\n",
        "text = \"hello world\"\n",
        "substring = \"world\"\n",
        "print(custom_index(text, substring))"
      ],
      "metadata": {
        "colab": {
          "base_uri": "https://localhost:8080/"
        },
        "id": "rElO5lbC-8Mw",
        "outputId": "9fbd175e-8d68-46d1-c7e4-100f4649bd5e"
      },
      "execution_count": 25,
      "outputs": [
        {
          "output_type": "stream",
          "name": "stdout",
          "text": [
            "6\n"
          ]
        }
      ]
    },
    {
      "cell_type": "markdown",
      "source": [
        "isalnum() Returns True if all characters in the string are alphanumeric"
      ],
      "metadata": {
        "id": "JS2segWb_LoN"
      }
    },
    {
      "cell_type": "code",
      "source": [
        "def custom_isalnum(text):\n",
        "\n",
        "    if len(text) == 0:\n",
        "        return False\n",
        "\n",
        "    for char in text:\n",
        "        if not (char.isalpha() or char.isdigit()):\n",
        "            return False\n",
        "    return True\n",
        "print(custom_isalnum(\"Hello023\"))\n",
        "print(custom_isalnum(\"Hello 123\"))\n"
      ],
      "metadata": {
        "colab": {
          "base_uri": "https://localhost:8080/"
        },
        "id": "-gHXfENx_RQC",
        "outputId": "1fef417b-3a19-4207-9896-bbd88e6a3f31"
      },
      "execution_count": 27,
      "outputs": [
        {
          "output_type": "stream",
          "name": "stdout",
          "text": [
            "True\n",
            "False\n"
          ]
        }
      ]
    },
    {
      "cell_type": "markdown",
      "source": [
        "isalpha() Returns True if all characters in the string are in the alphabet"
      ],
      "metadata": {
        "id": "zbjmxmw0_rV5"
      }
    },
    {
      "cell_type": "code",
      "source": [
        "def custom_isalpha(text):\n",
        "\n",
        "    if len(text) == 0:\n",
        "        return False\n",
        "\n",
        "    for char in text:\n",
        "\n",
        "        if not char.isalpha():\n",
        "            return False\n",
        "\n",
        "    return True\n",
        "\n",
        "\n",
        "print(custom_isalpha(\"Hello\"))\n",
        "print(custom_isalpha(\"Hello123\"))\n"
      ],
      "metadata": {
        "id": "QGSJT6aQ_wLO"
      },
      "execution_count": null,
      "outputs": []
    },
    {
      "cell_type": "markdown",
      "source": [
        "isdecimal() Returns True if all characters in the string are decimals\n"
      ],
      "metadata": {
        "id": "841_vte7ANJ3"
      }
    },
    {
      "cell_type": "code",
      "source": [
        "def custom_isdecimal(text):\n",
        "\n",
        "    if len(text) == 0:\n",
        "        return False\n",
        "\n",
        "    for char in text:\n",
        "\n",
        "        if char not in '0123456789':\n",
        "            return False\n",
        "\n",
        "    return True\n",
        "\n",
        "\n",
        "print(custom_isdecimal(\"12345\"))\n",
        "print(custom_isdecimal(\"12.34\"))\n"
      ],
      "metadata": {
        "colab": {
          "base_uri": "https://localhost:8080/"
        },
        "id": "wIU5uE0qATqJ",
        "outputId": "e0172305-f999-4d81-bdba-b3bc7fbb451d"
      },
      "execution_count": 28,
      "outputs": [
        {
          "output_type": "stream",
          "name": "stdout",
          "text": [
            "True\n",
            "False\n"
          ]
        }
      ]
    }
  ]
}